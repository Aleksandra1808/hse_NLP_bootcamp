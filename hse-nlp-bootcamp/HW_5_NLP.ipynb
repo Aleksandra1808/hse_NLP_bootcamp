{
 "cells": [
  {
   "cell_type": "code",
   "execution_count": 3,
   "metadata": {},
   "outputs": [
    {
     "name": "stdout",
     "output_type": "stream",
     "text": [
      "Requirement already satisfied: pyaspeller in /Users/aleksandrakozevnikova/opt/anaconda3/lib/python3.8/site-packages (1.0.0)\n",
      "Requirement already satisfied: requests<3.0.0,>=2.27.1 in /Users/aleksandrakozevnikova/opt/anaconda3/lib/python3.8/site-packages (from pyaspeller) (2.28.1)\n",
      "Requirement already satisfied: charset-normalizer<3,>=2 in /Users/aleksandrakozevnikova/opt/anaconda3/lib/python3.8/site-packages (from requests<3.0.0,>=2.27.1->pyaspeller) (2.1.1)\n",
      "Requirement already satisfied: idna<4,>=2.5 in /Users/aleksandrakozevnikova/opt/anaconda3/lib/python3.8/site-packages (from requests<3.0.0,>=2.27.1->pyaspeller) (2.10)\n",
      "Requirement already satisfied: certifi>=2017.4.17 in /Users/aleksandrakozevnikova/opt/anaconda3/lib/python3.8/site-packages (from requests<3.0.0,>=2.27.1->pyaspeller) (2020.6.20)\n",
      "Requirement already satisfied: urllib3<1.27,>=1.21.1 in /Users/aleksandrakozevnikova/opt/anaconda3/lib/python3.8/site-packages (from requests<3.0.0,>=2.27.1->pyaspeller) (1.25.11)\n",
      "Requirement already satisfied: deep_translator in /Users/aleksandrakozevnikova/opt/anaconda3/lib/python3.8/site-packages (1.9.1)\n",
      "Requirement already satisfied: beautifulsoup4<5.0.0,>=4.9.1 in /Users/aleksandrakozevnikova/opt/anaconda3/lib/python3.8/site-packages (from deep_translator) (4.9.3)\n",
      "Requirement already satisfied: requests<3.0.0,>=2.23.0 in /Users/aleksandrakozevnikova/opt/anaconda3/lib/python3.8/site-packages (from deep_translator) (2.28.1)\n",
      "Requirement already satisfied: soupsieve>1.2; python_version >= \"3.0\" in /Users/aleksandrakozevnikova/opt/anaconda3/lib/python3.8/site-packages (from beautifulsoup4<5.0.0,>=4.9.1->deep_translator) (2.0.1)\n",
      "Requirement already satisfied: charset-normalizer<3,>=2 in /Users/aleksandrakozevnikova/opt/anaconda3/lib/python3.8/site-packages (from requests<3.0.0,>=2.23.0->deep_translator) (2.1.1)\n",
      "Requirement already satisfied: certifi>=2017.4.17 in /Users/aleksandrakozevnikova/opt/anaconda3/lib/python3.8/site-packages (from requests<3.0.0,>=2.23.0->deep_translator) (2020.6.20)\n",
      "Requirement already satisfied: idna<4,>=2.5 in /Users/aleksandrakozevnikova/opt/anaconda3/lib/python3.8/site-packages (from requests<3.0.0,>=2.23.0->deep_translator) (2.10)\n",
      "Requirement already satisfied: urllib3<1.27,>=1.21.1 in /Users/aleksandrakozevnikova/opt/anaconda3/lib/python3.8/site-packages (from requests<3.0.0,>=2.23.0->deep_translator) (1.25.11)\n",
      "Requirement already satisfied: pymorphy2 in /Users/aleksandrakozevnikova/opt/anaconda3/lib/python3.8/site-packages (0.9.1)\n",
      "Requirement already satisfied: dawg-python>=0.7.1 in /Users/aleksandrakozevnikova/opt/anaconda3/lib/python3.8/site-packages (from pymorphy2) (0.7.2)\n",
      "Requirement already satisfied: pymorphy2-dicts-ru<3.0,>=2.4 in /Users/aleksandrakozevnikova/opt/anaconda3/lib/python3.8/site-packages (from pymorphy2) (2.4.417127.4579844)\n",
      "Requirement already satisfied: docopt>=0.6 in /Users/aleksandrakozevnikova/opt/anaconda3/lib/python3.8/site-packages (from pymorphy2) (0.6.2)\n",
      "Collecting pymystem3\n",
      "  Downloading pymystem3-0.2.0-py3-none-any.whl (10 kB)\n",
      "Requirement already satisfied: requests in /Users/aleksandrakozevnikova/opt/anaconda3/lib/python3.8/site-packages (from pymystem3) (2.28.1)\n",
      "Requirement already satisfied: charset-normalizer<3,>=2 in /Users/aleksandrakozevnikova/opt/anaconda3/lib/python3.8/site-packages (from requests->pymystem3) (2.1.1)\n",
      "Requirement already satisfied: certifi>=2017.4.17 in /Users/aleksandrakozevnikova/opt/anaconda3/lib/python3.8/site-packages (from requests->pymystem3) (2020.6.20)\n",
      "Requirement already satisfied: idna<4,>=2.5 in /Users/aleksandrakozevnikova/opt/anaconda3/lib/python3.8/site-packages (from requests->pymystem3) (2.10)\n",
      "Requirement already satisfied: urllib3<1.27,>=1.21.1 in /Users/aleksandrakozevnikova/opt/anaconda3/lib/python3.8/site-packages (from requests->pymystem3) (1.25.11)\n",
      "Installing collected packages: pymystem3\n",
      "Successfully installed pymystem3-0.2.0\n"
     ]
    }
   ],
   "source": [
    "!pip install pyaspeller\n",
    "!pip install deep_translator \n",
    "!pip install pymorphy2\n",
    "!pip install pymystem3\n",
    "\n",
    "from functools import lru_cache\n",
    "from tqdm import tqdm\n",
    "import numpy as np\n",
    "import pandas as pd\n",
    "\n",
    "from multiprocessing import Pool\n",
    "from nltk import word_tokenize\n",
    "from nltk.corpus import stopwords\n",
    "from pymystem3 import Mystem\n",
    "from sklearn.feature_extraction.text import TfidfVectorizer, HashingVectorizer"
   ]
  },
  {
   "cell_type": "code",
   "execution_count": 4,
   "metadata": {},
   "outputs": [],
   "source": [
    "STOPWORDS = stopwords.words('russian')\n",
    "RANDOM_STATE = np.random.seed(42)"
   ]
  },
  {
   "cell_type": "code",
   "execution_count": 5,
   "metadata": {},
   "outputs": [
    {
     "name": "stderr",
     "output_type": "stream",
     "text": [
      "Installing mystem to /Users/aleksandrakozevnikova/.local/bin/mystem from http://download.cdn.yandex.net/mystem/mystem-3.1-macosx.tar.gz\n"
     ]
    }
   ],
   "source": [
    "m = Mystem()"
   ]
  },
  {
   "cell_type": "code",
   "execution_count": 6,
   "metadata": {},
   "outputs": [],
   "source": [
    "train = pd.read_csv('train_ml.csv')\n",
    "val = pd.read_csv('new_test_ml.csv')"
   ]
  },
  {
   "cell_type": "code",
   "execution_count": 7,
   "metadata": {},
   "outputs": [],
   "source": [
    "train =train.drop_duplicates()"
   ]
  },
  {
   "cell_type": "code",
   "execution_count": 8,
   "metadata": {},
   "outputs": [
    {
     "data": {
      "text/html": [
       "<div>\n",
       "<style scoped>\n",
       "    .dataframe tbody tr th:only-of-type {\n",
       "        vertical-align: middle;\n",
       "    }\n",
       "\n",
       "    .dataframe tbody tr th {\n",
       "        vertical-align: top;\n",
       "    }\n",
       "\n",
       "    .dataframe thead th {\n",
       "        text-align: right;\n",
       "    }\n",
       "</style>\n",
       "<table border=\"1\" class=\"dataframe\">\n",
       "  <thead>\n",
       "    <tr style=\"text-align: right;\">\n",
       "      <th></th>\n",
       "      <th>bank</th>\n",
       "      <th>feeds</th>\n",
       "      <th>grades</th>\n",
       "      <th>date</th>\n",
       "    </tr>\n",
       "  </thead>\n",
       "  <tbody>\n",
       "    <tr>\n",
       "      <th>0</th>\n",
       "      <td>ubrr</td>\n",
       "      <td>Много лет являюсь клиентом этого банка, но пос...</td>\n",
       "      <td>1.0</td>\n",
       "      <td>16.02.2017 16:10</td>\n",
       "    </tr>\n",
       "    <tr>\n",
       "      <th>1</th>\n",
       "      <td>fk_otkritie</td>\n",
       "      <td>Г. Ростов-на-Дону, ул. Ленина, 48. Были 10.12....</td>\n",
       "      <td>2.0</td>\n",
       "      <td>13.12.2016 1:05</td>\n",
       "    </tr>\n",
       "    <tr>\n",
       "      <th>2</th>\n",
       "      <td>alfabank</td>\n",
       "      <td>Здравствуйте!Ранее уже оставлял отзыв о вашем ...</td>\n",
       "      <td>NaN</td>\n",
       "      <td>28.06.2019 13:54</td>\n",
       "    </tr>\n",
       "    <tr>\n",
       "      <th>3</th>\n",
       "      <td>vtb</td>\n",
       "      <td>Обращаюсь к Вам с жалобой на незаконное списан...</td>\n",
       "      <td>NaN</td>\n",
       "      <td>15.07.2020 14:54</td>\n",
       "    </tr>\n",
       "    <tr>\n",
       "      <th>4</th>\n",
       "      <td>promsvyazbank</td>\n",
       "      <td>Имею потребительский кредит, взятый в Связь-ба...</td>\n",
       "      <td>2.0</td>\n",
       "      <td>04.08.2020 6:38</td>\n",
       "    </tr>\n",
       "    <tr>\n",
       "      <th>...</th>\n",
       "      <td>...</td>\n",
       "      <td>...</td>\n",
       "      <td>...</td>\n",
       "      <td>...</td>\n",
       "    </tr>\n",
       "    <tr>\n",
       "      <th>74995</th>\n",
       "      <td>trust</td>\n",
       "      <td>Три года длится эпопея с закрытием кредитной к...</td>\n",
       "      <td>1.0</td>\n",
       "      <td>26.10.2016 11:03</td>\n",
       "    </tr>\n",
       "    <tr>\n",
       "      <th>74996</th>\n",
       "      <td>fk_otkritie</td>\n",
       "      <td>Являлся клиентом Бинбанка, пока после слияния ...</td>\n",
       "      <td>2.0</td>\n",
       "      <td>01.02.2020 21:07</td>\n",
       "    </tr>\n",
       "    <tr>\n",
       "      <th>74997</th>\n",
       "      <td>sberbank</td>\n",
       "      <td>8 мая 2016 г. мною вносились деньги на банковс...</td>\n",
       "      <td>1.0</td>\n",
       "      <td>14.06.2016 16:03</td>\n",
       "    </tr>\n",
       "    <tr>\n",
       "      <th>74998</th>\n",
       "      <td>uralsib</td>\n",
       "      <td>Здравствуйте! Сегодня 21.04.2020 захожу в моби...</td>\n",
       "      <td>3.0</td>\n",
       "      <td>21.04.2020 8:24</td>\n",
       "    </tr>\n",
       "    <tr>\n",
       "      <th>74999</th>\n",
       "      <td>bnpparibaseast</td>\n",
       "      <td>Уважаемое руководство банка!Если все услуги ва...</td>\n",
       "      <td>1.0</td>\n",
       "      <td>01.06.2011 13:05</td>\n",
       "    </tr>\n",
       "  </tbody>\n",
       "</table>\n",
       "<p>75000 rows × 4 columns</p>\n",
       "</div>"
      ],
      "text/plain": [
       "                 bank                                              feeds  \\\n",
       "0                ubrr  Много лет являюсь клиентом этого банка, но пос...   \n",
       "1         fk_otkritie  Г. Ростов-на-Дону, ул. Ленина, 48. Были 10.12....   \n",
       "2            alfabank  Здравствуйте!Ранее уже оставлял отзыв о вашем ...   \n",
       "3                 vtb  Обращаюсь к Вам с жалобой на незаконное списан...   \n",
       "4       promsvyazbank  Имею потребительский кредит, взятый в Связь-ба...   \n",
       "...               ...                                                ...   \n",
       "74995           trust  Три года длится эпопея с закрытием кредитной к...   \n",
       "74996     fk_otkritie  Являлся клиентом Бинбанка, пока после слияния ...   \n",
       "74997        sberbank  8 мая 2016 г. мною вносились деньги на банковс...   \n",
       "74998         uralsib  Здравствуйте! Сегодня 21.04.2020 захожу в моби...   \n",
       "74999  bnpparibaseast  Уважаемое руководство банка!Если все услуги ва...   \n",
       "\n",
       "       grades              date  \n",
       "0         1.0  16.02.2017 16:10  \n",
       "1         2.0   13.12.2016 1:05  \n",
       "2         NaN  28.06.2019 13:54  \n",
       "3         NaN  15.07.2020 14:54  \n",
       "4         2.0   04.08.2020 6:38  \n",
       "...       ...               ...  \n",
       "74995     1.0  26.10.2016 11:03  \n",
       "74996     2.0  01.02.2020 21:07  \n",
       "74997     1.0  14.06.2016 16:03  \n",
       "74998     3.0   21.04.2020 8:24  \n",
       "74999     1.0  01.06.2011 13:05  \n",
       "\n",
       "[75000 rows x 4 columns]"
      ]
     },
     "execution_count": 8,
     "metadata": {},
     "output_type": "execute_result"
    }
   ],
   "source": [
    "train"
   ]
  },
  {
   "cell_type": "code",
   "execution_count": 9,
   "metadata": {},
   "outputs": [
    {
     "data": {
      "text/html": [
       "<div>\n",
       "<style scoped>\n",
       "    .dataframe tbody tr th:only-of-type {\n",
       "        vertical-align: middle;\n",
       "    }\n",
       "\n",
       "    .dataframe tbody tr th {\n",
       "        vertical-align: top;\n",
       "    }\n",
       "\n",
       "    .dataframe thead th {\n",
       "        text-align: right;\n",
       "    }\n",
       "</style>\n",
       "<table border=\"1\" class=\"dataframe\">\n",
       "  <thead>\n",
       "    <tr style=\"text-align: right;\">\n",
       "      <th></th>\n",
       "      <th>Unnamed: 0</th>\n",
       "      <th>bank</th>\n",
       "      <th>feeds</th>\n",
       "      <th>date</th>\n",
       "    </tr>\n",
       "  </thead>\n",
       "  <tbody>\n",
       "    <tr>\n",
       "      <th>0</th>\n",
       "      <td>0</td>\n",
       "      <td>sberbank</td>\n",
       "      <td>Оформляем ипотеку в Сбербанке. 22.06.2020 были...</td>\n",
       "      <td>01.07.2020 10:53</td>\n",
       "    </tr>\n",
       "    <tr>\n",
       "      <th>1</th>\n",
       "      <td>1</td>\n",
       "      <td>alfabank</td>\n",
       "      <td>Краткое содержание: не рекомендую брать кредит...</td>\n",
       "      <td>20.06.2019 13:19</td>\n",
       "    </tr>\n",
       "    <tr>\n",
       "      <th>2</th>\n",
       "      <td>2</td>\n",
       "      <td>v-express-bank</td>\n",
       "      <td>Добрый день, уважаемые сотрудники службы контр...</td>\n",
       "      <td>20.02.2016 11:46</td>\n",
       "    </tr>\n",
       "    <tr>\n",
       "      <th>3</th>\n",
       "      <td>3</td>\n",
       "      <td>homecreditbank</td>\n",
       "      <td>Обращался за получением карты \"Зеленая польза\"...</td>\n",
       "      <td>06.05.2019 15:48</td>\n",
       "    </tr>\n",
       "    <tr>\n",
       "      <th>4</th>\n",
       "      <td>4</td>\n",
       "      <td>vtb</td>\n",
       "      <td>20.05.2016 обратилась в отделение банка на про...</td>\n",
       "      <td>23.05.2016 15:41</td>\n",
       "    </tr>\n",
       "    <tr>\n",
       "      <th>...</th>\n",
       "      <td>...</td>\n",
       "      <td>...</td>\n",
       "      <td>...</td>\n",
       "      <td>...</td>\n",
       "    </tr>\n",
       "    <tr>\n",
       "      <th>17215</th>\n",
       "      <td>17215</td>\n",
       "      <td>sberbank</td>\n",
       "      <td>21.09.2018 в 15:26:56, я, О-ва К. К., снимала ...</td>\n",
       "      <td>22.09.2018 16:08</td>\n",
       "    </tr>\n",
       "    <tr>\n",
       "      <th>17216</th>\n",
       "      <td>17216</td>\n",
       "      <td>homecreditbank</td>\n",
       "      <td>Наверняка не засчитают, но тем не менее. Нужна...</td>\n",
       "      <td>06.10.2011 9:35</td>\n",
       "    </tr>\n",
       "    <tr>\n",
       "      <th>17217</th>\n",
       "      <td>17217</td>\n",
       "      <td>interprombank</td>\n",
       "      <td>15.08.2019 я, как физ.лицо обратилась в офис н...</td>\n",
       "      <td>21.08.2019 14:13</td>\n",
       "    </tr>\n",
       "    <tr>\n",
       "      <th>17218</th>\n",
       "      <td>17218</td>\n",
       "      <td>otpbank</td>\n",
       "      <td>У банка есть рекламный продукт-игра \"Мои рыбки...</td>\n",
       "      <td>29.05.2020 16:12</td>\n",
       "    </tr>\n",
       "    <tr>\n",
       "      <th>17219</th>\n",
       "      <td>17219</td>\n",
       "      <td>sberbank</td>\n",
       "      <td>26 мая 2015 года мною была совершена операция ...</td>\n",
       "      <td>02.06.2015 15:44</td>\n",
       "    </tr>\n",
       "  </tbody>\n",
       "</table>\n",
       "<p>17220 rows × 4 columns</p>\n",
       "</div>"
      ],
      "text/plain": [
       "       Unnamed: 0            bank  \\\n",
       "0               0        sberbank   \n",
       "1               1        alfabank   \n",
       "2               2  v-express-bank   \n",
       "3               3  homecreditbank   \n",
       "4               4             vtb   \n",
       "...           ...             ...   \n",
       "17215       17215        sberbank   \n",
       "17216       17216  homecreditbank   \n",
       "17217       17217   interprombank   \n",
       "17218       17218         otpbank   \n",
       "17219       17219        sberbank   \n",
       "\n",
       "                                                   feeds              date  \n",
       "0      Оформляем ипотеку в Сбербанке. 22.06.2020 были...  01.07.2020 10:53  \n",
       "1      Краткое содержание: не рекомендую брать кредит...  20.06.2019 13:19  \n",
       "2      Добрый день, уважаемые сотрудники службы контр...  20.02.2016 11:46  \n",
       "3      Обращался за получением карты \"Зеленая польза\"...  06.05.2019 15:48  \n",
       "4      20.05.2016 обратилась в отделение банка на про...  23.05.2016 15:41  \n",
       "...                                                  ...               ...  \n",
       "17215  21.09.2018 в 15:26:56, я, О-ва К. К., снимала ...  22.09.2018 16:08  \n",
       "17216  Наверняка не засчитают, но тем не менее. Нужна...   06.10.2011 9:35  \n",
       "17217  15.08.2019 я, как физ.лицо обратилась в офис н...  21.08.2019 14:13  \n",
       "17218  У банка есть рекламный продукт-игра \"Мои рыбки...  29.05.2020 16:12  \n",
       "17219  26 мая 2015 года мною была совершена операция ...  02.06.2015 15:44  \n",
       "\n",
       "[17220 rows x 4 columns]"
      ]
     },
     "execution_count": 9,
     "metadata": {},
     "output_type": "execute_result"
    }
   ],
   "source": [
    "val"
   ]
  },
  {
   "cell_type": "code",
   "execution_count": 10,
   "metadata": {},
   "outputs": [],
   "source": [
    "train = train[['feeds', 'grades']]\n",
    "val = val[['feeds']]"
   ]
  },
  {
   "cell_type": "code",
   "execution_count": 11,
   "metadata": {},
   "outputs": [],
   "source": [
    "@lru_cache(maxsize=2048)\n",
    "def lemmatize_word(token, mystem=Mystem()):\n",
    "    return \" \".join(mystem.lemmatize(token))"
   ]
  },
  {
   "cell_type": "code",
   "execution_count": 12,
   "metadata": {},
   "outputs": [
    {
     "name": "stderr",
     "output_type": "stream",
     "text": [
      "<ipython-input-12-434434c9bd69>:1: SettingWithCopyWarning: \n",
      "A value is trying to be set on a copy of a slice from a DataFrame.\n",
      "Try using .loc[row_indexer,col_indexer] = value instead\n",
      "\n",
      "See the caveats in the documentation: https://pandas.pydata.org/pandas-docs/stable/user_guide/indexing.html#returning-a-view-versus-a-copy\n",
      "  train[\"feeds\"] = train.apply(lambda x: x[\"feeds\"].lower(), axis=1)\n",
      "<ipython-input-12-434434c9bd69>:2: SettingWithCopyWarning: \n",
      "A value is trying to be set on a copy of a slice from a DataFrame.\n",
      "Try using .loc[row_indexer,col_indexer] = value instead\n",
      "\n",
      "See the caveats in the documentation: https://pandas.pydata.org/pandas-docs/stable/user_guide/indexing.html#returning-a-view-versus-a-copy\n",
      "  val[\"feeds\"] = val.apply(lambda x: x[\"feeds\"].lower(), axis=1)\n"
     ]
    }
   ],
   "source": [
    "train[\"feeds\"] = train.apply(lambda x: x[\"feeds\"].lower(), axis=1)\n",
    "val[\"feeds\"] = val.apply(lambda x: x[\"feeds\"].lower(), axis=1)\n",
    "X_test = val[['feeds']]"
   ]
  },
  {
   "cell_type": "code",
   "execution_count": 13,
   "metadata": {},
   "outputs": [],
   "source": [
    "X_train, y_train = train[[\"feeds\"]], train[[\"grades\"]]"
   ]
  },
  {
   "cell_type": "code",
   "execution_count": 14,
   "metadata": {},
   "outputs": [],
   "source": [
    "X_test = val"
   ]
  },
  {
   "cell_type": "code",
   "execution_count": 15,
   "metadata": {},
   "outputs": [],
   "source": [
    "def remove_stopwords(lemmas):\n",
    "    return \" \".join([l for l in lemmas.split() if l not in STOPWORDS])"
   ]
  },
  {
   "cell_type": "code",
   "execution_count": 19,
   "metadata": {},
   "outputs": [
    {
     "name": "stderr",
     "output_type": "stream",
     "text": [
      "<ipython-input-19-5828b27fe8af>:2: SettingWithCopyWarning: \n",
      "A value is trying to be set on a copy of a slice from a DataFrame.\n",
      "Try using .loc[row_indexer,col_indexer] = value instead\n",
      "\n",
      "See the caveats in the documentation: https://pandas.pydata.org/pandas-docs/stable/user_guide/indexing.html#returning-a-view-versus-a-copy\n",
      "  X_train['feeds'] = list(map(remove_stopwords, X_train['feeds']))\n",
      "<ipython-input-19-5828b27fe8af>:3: SettingWithCopyWarning: \n",
      "A value is trying to be set on a copy of a slice from a DataFrame.\n",
      "Try using .loc[row_indexer,col_indexer] = value instead\n",
      "\n",
      "See the caveats in the documentation: https://pandas.pydata.org/pandas-docs/stable/user_guide/indexing.html#returning-a-view-versus-a-copy\n",
      "  X_test['feeds'] = list(map(remove_stopwords, X_test['feeds']))\n"
     ]
    }
   ],
   "source": [
    "X_train['feeds'] = list(map(remove_stopwords, X_train['feeds']))\n",
    "X_test['feeds'] = list(map(remove_stopwords, X_test['feeds']))"
   ]
  },
  {
   "cell_type": "code",
   "execution_count": 20,
   "metadata": {},
   "outputs": [],
   "source": [
    "vec = TfidfVectorizer(ngram_range=(1, 1), tokenizer=word_tokenize)\n",
    "\n",
    "bow = vec.fit_transform(X_train['feeds'])\n",
    "bow_test = vec.transform(X_test['feeds'])"
   ]
  },
  {
   "cell_type": "code",
   "execution_count": 21,
   "metadata": {},
   "outputs": [],
   "source": [
    "bow = pd.DataFrame.sparse.from_spmatrix(bow)\n",
    "bow_test = pd.DataFrame.sparse.from_spmatrix(bow_test)"
   ]
  },
  {
   "cell_type": "code",
   "execution_count": 22,
   "metadata": {},
   "outputs": [
    {
     "data": {
      "text/plain": [
       "(75000, 357588)"
      ]
     },
     "execution_count": 22,
     "metadata": {},
     "output_type": "execute_result"
    }
   ],
   "source": [
    "bow.shape"
   ]
  },
  {
   "cell_type": "code",
   "execution_count": 23,
   "metadata": {},
   "outputs": [
    {
     "data": {
      "text/plain": [
       "(17220, 357588)"
      ]
     },
     "execution_count": 23,
     "metadata": {},
     "output_type": "execute_result"
    }
   ],
   "source": [
    "bow_test.shape"
   ]
  },
  {
   "cell_type": "code",
   "execution_count": 24,
   "metadata": {},
   "outputs": [],
   "source": [
    "index = y_train[y_train['grades']!=y_train['grades']].index"
   ]
  },
  {
   "cell_type": "code",
   "execution_count": 25,
   "metadata": {},
   "outputs": [],
   "source": [
    "bow = bow.iloc[bow.index.drop(index)]\n",
    "y_train = y_train.drop(index, axis=0)"
   ]
  },
  {
   "cell_type": "code",
   "execution_count": 26,
   "metadata": {},
   "outputs": [
    {
     "data": {
      "text/plain": [
       "((17220, 357588), (51476, 357588))"
      ]
     },
     "execution_count": 26,
     "metadata": {},
     "output_type": "execute_result"
    }
   ],
   "source": [
    "bow_test.shape, bow.shape"
   ]
  },
  {
   "cell_type": "code",
   "execution_count": 27,
   "metadata": {},
   "outputs": [],
   "source": [
    "from sklearn.linear_model import RidgeClassifier"
   ]
  },
  {
   "cell_type": "code",
   "execution_count": 28,
   "metadata": {},
   "outputs": [
    {
     "name": "stderr",
     "output_type": "stream",
     "text": [
      "/Users/aleksandrakozevnikova/opt/anaconda3/lib/python3.8/site-packages/sklearn/linear_model/_ridge.py:1178: DataConversionWarning: A column-vector y was passed when a 1d array was expected. Please change the shape of y to (n_samples, ), for example using ravel().\n",
      "  y = column_or_1d(y, warn=True)\n"
     ]
    },
    {
     "data": {
      "text/html": [
       "<style>#sk-container-id-1 {color: black;background-color: white;}#sk-container-id-1 pre{padding: 0;}#sk-container-id-1 div.sk-toggleable {background-color: white;}#sk-container-id-1 label.sk-toggleable__label {cursor: pointer;display: block;width: 100%;margin-bottom: 0;padding: 0.3em;box-sizing: border-box;text-align: center;}#sk-container-id-1 label.sk-toggleable__label-arrow:before {content: \"▸\";float: left;margin-right: 0.25em;color: #696969;}#sk-container-id-1 label.sk-toggleable__label-arrow:hover:before {color: black;}#sk-container-id-1 div.sk-estimator:hover label.sk-toggleable__label-arrow:before {color: black;}#sk-container-id-1 div.sk-toggleable__content {max-height: 0;max-width: 0;overflow: hidden;text-align: left;background-color: #f0f8ff;}#sk-container-id-1 div.sk-toggleable__content pre {margin: 0.2em;color: black;border-radius: 0.25em;background-color: #f0f8ff;}#sk-container-id-1 input.sk-toggleable__control:checked~div.sk-toggleable__content {max-height: 200px;max-width: 100%;overflow: auto;}#sk-container-id-1 input.sk-toggleable__control:checked~label.sk-toggleable__label-arrow:before {content: \"▾\";}#sk-container-id-1 div.sk-estimator input.sk-toggleable__control:checked~label.sk-toggleable__label {background-color: #d4ebff;}#sk-container-id-1 div.sk-label input.sk-toggleable__control:checked~label.sk-toggleable__label {background-color: #d4ebff;}#sk-container-id-1 input.sk-hidden--visually {border: 0;clip: rect(1px 1px 1px 1px);clip: rect(1px, 1px, 1px, 1px);height: 1px;margin: -1px;overflow: hidden;padding: 0;position: absolute;width: 1px;}#sk-container-id-1 div.sk-estimator {font-family: monospace;background-color: #f0f8ff;border: 1px dotted black;border-radius: 0.25em;box-sizing: border-box;margin-bottom: 0.5em;}#sk-container-id-1 div.sk-estimator:hover {background-color: #d4ebff;}#sk-container-id-1 div.sk-parallel-item::after {content: \"\";width: 100%;border-bottom: 1px solid gray;flex-grow: 1;}#sk-container-id-1 div.sk-label:hover label.sk-toggleable__label {background-color: #d4ebff;}#sk-container-id-1 div.sk-serial::before {content: \"\";position: absolute;border-left: 1px solid gray;box-sizing: border-box;top: 0;bottom: 0;left: 50%;z-index: 0;}#sk-container-id-1 div.sk-serial {display: flex;flex-direction: column;align-items: center;background-color: white;padding-right: 0.2em;padding-left: 0.2em;position: relative;}#sk-container-id-1 div.sk-item {position: relative;z-index: 1;}#sk-container-id-1 div.sk-parallel {display: flex;align-items: stretch;justify-content: center;background-color: white;position: relative;}#sk-container-id-1 div.sk-item::before, #sk-container-id-1 div.sk-parallel-item::before {content: \"\";position: absolute;border-left: 1px solid gray;box-sizing: border-box;top: 0;bottom: 0;left: 50%;z-index: -1;}#sk-container-id-1 div.sk-parallel-item {display: flex;flex-direction: column;z-index: 1;position: relative;background-color: white;}#sk-container-id-1 div.sk-parallel-item:first-child::after {align-self: flex-end;width: 50%;}#sk-container-id-1 div.sk-parallel-item:last-child::after {align-self: flex-start;width: 50%;}#sk-container-id-1 div.sk-parallel-item:only-child::after {width: 0;}#sk-container-id-1 div.sk-dashed-wrapped {border: 1px dashed gray;margin: 0 0.4em 0.5em 0.4em;box-sizing: border-box;padding-bottom: 0.4em;background-color: white;}#sk-container-id-1 div.sk-label label {font-family: monospace;font-weight: bold;display: inline-block;line-height: 1.2em;}#sk-container-id-1 div.sk-label-container {text-align: center;}#sk-container-id-1 div.sk-container {/* jupyter's `normalize.less` sets `[hidden] { display: none; }` but bootstrap.min.css set `[hidden] { display: none !important; }` so we also need the `!important` here to be able to override the default hidden behavior on the sphinx rendered scikit-learn.org. See: https://github.com/scikit-learn/scikit-learn/issues/21755 */display: inline-block !important;position: relative;}#sk-container-id-1 div.sk-text-repr-fallback {display: none;}</style><div id=\"sk-container-id-1\" class=\"sk-top-container\"><div class=\"sk-text-repr-fallback\"><pre>RidgeClassifier()</pre><b>In a Jupyter environment, please rerun this cell to show the HTML representation or trust the notebook. <br />On GitHub, the HTML representation is unable to render, please try loading this page with nbviewer.org.</b></div><div class=\"sk-container\" hidden><div class=\"sk-item\"><div class=\"sk-estimator sk-toggleable\"><input class=\"sk-toggleable__control sk-hidden--visually\" id=\"sk-estimator-id-1\" type=\"checkbox\" checked><label for=\"sk-estimator-id-1\" class=\"sk-toggleable__label sk-toggleable__label-arrow\">RidgeClassifier</label><div class=\"sk-toggleable__content\"><pre>RidgeClassifier()</pre></div></div></div></div></div>"
      ],
      "text/plain": [
       "RidgeClassifier()"
      ]
     },
     "execution_count": 28,
     "metadata": {},
     "output_type": "execute_result"
    }
   ],
   "source": [
    "clf = RidgeClassifier()\n",
    "clf.fit(bow, y_train)"
   ]
  },
  {
   "cell_type": "code",
   "execution_count": 29,
   "metadata": {},
   "outputs": [],
   "source": [
    "pred = clf.predict(bow_test)"
   ]
  },
  {
   "cell_type": "code",
   "execution_count": 30,
   "metadata": {},
   "outputs": [],
   "source": [
    "results = pd.DataFrame(pred, columns =['grades'],dtype=int)"
   ]
  },
  {
   "cell_type": "code",
   "execution_count": 31,
   "metadata": {},
   "outputs": [],
   "source": [
    "results['inds'] = range(0,len(results))"
   ]
  },
  {
   "cell_type": "code",
   "execution_count": 32,
   "metadata": {},
   "outputs": [
    {
     "data": {
      "text/plain": [
       "1    11950\n",
       "5     5041\n",
       "2      200\n",
       "3       17\n",
       "4       12\n",
       "Name: grades, dtype: int64"
      ]
     },
     "execution_count": 32,
     "metadata": {},
     "output_type": "execute_result"
    }
   ],
   "source": [
    "results.grades.value_counts()"
   ]
  },
  {
   "cell_type": "code",
   "execution_count": 33,
   "metadata": {},
   "outputs": [],
   "source": [
    "results[['inds', 'grades']].to_csv('ridge.csv',index=False)"
   ]
  }
 ],
 "metadata": {
  "kernelspec": {
   "display_name": "Python 3",
   "language": "python",
   "name": "python3"
  },
  "language_info": {
   "codemirror_mode": {
    "name": "ipython",
    "version": 3
   },
   "file_extension": ".py",
   "mimetype": "text/x-python",
   "name": "python",
   "nbconvert_exporter": "python",
   "pygments_lexer": "ipython3",
   "version": "3.8.5"
  },
  "vscode": {
   "interpreter": {
    "hash": "38e0d4072ec79743c4b40e8c2b92fccdacd521dd7ef95e0a2bd1246597109eb3"
   }
  }
 },
 "nbformat": 4,
 "nbformat_minor": 2
}
